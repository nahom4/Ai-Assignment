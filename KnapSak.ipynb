{
 "cells": [
  {
   "cell_type": "code",
   "execution_count": 20,
   "metadata": {},
   "outputs": [],
   "source": [
    "from collections import *\n",
    "import random\n",
    "import math\n"
   ]
  },
  {
   "cell_type": "code",
   "execution_count": 21,
   "metadata": {},
   "outputs": [],
   "source": [
    "file = open(\"items.txt\", 'r')\n",
    "input = file.readlines()\n",
    "file.close()\n"
   ]
  },
  {
   "attachments": {},
   "cell_type": "markdown",
   "metadata": {},
   "source": [
    "### items initializer"
   ]
  },
  {
   "cell_type": "code",
   "execution_count": 22,
   "metadata": {},
   "outputs": [],
   "source": [
    "totalKnapsakWeight = input[0]\n",
    "items = []\n",
    "for index in range(2, len(input)):\n",
    "      currentLine = input[index].strip()\n",
    "      \n",
    "      anItem = currentLine.split(',')\n",
    "      anItem[-1].strip()\n",
    "      n_item = anItem[-1]\n",
    "      for num_item in range(int(n_item)):\n",
    "        currentItem = defaultdict(str)\n",
    "        currentItem[\"item\"] = anItem[0]\n",
    "        currentItem[\"weight\"] = anItem[1]\n",
    "        currentItem[\"value\"] = anItem[2]\n",
    "        items.append(dict(currentItem))\n",
    "\n"
   ]
  },
  {
   "cell_type": "markdown",
   "metadata": {},
   "source": [
    "### Random start State Generator"
   ]
  },
  {
   "cell_type": "code",
   "execution_count": 23,
   "metadata": {},
   "outputs": [],
   "source": [
    "\n",
    "def generateStartState(numItems):\n",
    "    startState = [random.randint(0, 1) for _ in range(numItems)]\n",
    "    return startState\n",
    "\n",
    "\n"
   ]
  },
  {
   "cell_type": "markdown",
   "metadata": {},
   "source": [
    "### Fitness Function\n"
   ]
  },
  {
   "cell_type": "code",
   "execution_count": 24,
   "metadata": {},
   "outputs": [],
   "source": [
    "def fitness(state):\n",
    "      stateWeight = 0\n",
    "      stateValue = 0\n",
    "      for item in range(len(state)):\n",
    "            if state[item] == 1:\n",
    "                 \n",
    "                  stateWeight += float(items[item][\"weight\"])\n",
    "                  stateValue += float(items[item][\"value\"])\n",
    "                  \n",
    "      return (stateWeight, stateValue, state)\n"
   ]
  },
  {
   "attachments": {},
   "cell_type": "markdown",
   "metadata": {},
   "source": [
    "### Generating neighbours"
   ]
  },
  {
   "cell_type": "code",
   "execution_count": 25,
   "metadata": {},
   "outputs": [],
   "source": [
    "\n",
    "def generateNeighboringSolution(current_solution):\n",
    "    neighbors = []\n",
    "    n = len(current_solution)\n",
    "\n",
    "    for i in range(n):\n",
    "        neighbor = current_solution.copy() \n",
    "        neighbor[i] = 1 - neighbor[i]     \n",
    "        neighbors.append(neighbor)        \n",
    "\n",
    "    return neighbors\n"
   ]
  },
  {
   "cell_type": "markdown",
   "metadata": {},
   "source": [
    "### HIll climbing implementation"
   ]
  },
  {
   "cell_type": "code",
   "execution_count": 26,
   "metadata": {},
   "outputs": [
    {
     "name": "stdout",
     "output_type": "stream",
     "text": [
      "(5900.0, [0, 1, 1, 0, 0, 1, 1, 0, 1, 0])\n"
     ]
    }
   ],
   "source": [
    "def hillClimbing(totalKnapsakWeight):  \n",
    "      \n",
    "    startState = generateStartState(len(items))\n",
    "    currentWeight, currentValue, currentState = fitness(startState)\n",
    "    temp = \"start\"\n",
    "    \n",
    "    while currentWeight > totalKnapsakWeight:\n",
    "        startState = generateStartState(len(items))\n",
    "        currentWeight, currentValue,  currentState = fitness(startState)\n",
    "        \n",
    "    while list(temp) != list(currentState) and currentWeight < totalKnapsakWeight:\n",
    "            \n",
    "        temp = list(currentState)\n",
    "        \n",
    "        neighbours = generateNeighboringSolution(currentState)\n",
    "        \n",
    "        for neighbour in neighbours:\n",
    "            \n",
    "            neighbourWeight, neighbourValue, neighbourState = fitness(neighbour)\n",
    "            \n",
    "            if neighbourWeight <= totalKnapsakWeight and neighbourValue > currentValue:\n",
    "                currentValue = neighbourValue\n",
    "                currentWeight = neighbourWeight\n",
    "                currentState = neighbourState.copy()\n",
    "                        \n",
    "    return (currentValue, currentState)\n",
    "\n",
    "\n",
    "print(hillClimbing(float(totalKnapsakWeight)))                    \n",
    "       "
   ]
  },
  {
   "cell_type": "markdown",
   "metadata": {},
   "source": [
    "### SIMULATED ANNEALING ACCEPTANCE RATE PROBABILITY "
   ]
  },
  {
   "cell_type": "code",
   "execution_count": 27,
   "metadata": {},
   "outputs": [],
   "source": [
    "def acceptanceProbability(currentValue, new_value, temperature):\n",
    "    if new_value > currentValue:\n",
    "        return 1.0\n",
    "    else:\n",
    "        return math.exp((new_value - currentValue) / temperature)\n"
   ]
  },
  {
   "attachments": {},
   "cell_type": "markdown",
   "metadata": {},
   "source": [
    "### Simulated Annealing Implementation\n"
   ]
  },
  {
   "cell_type": "code",
   "execution_count": 28,
   "metadata": {},
   "outputs": [
    {
     "name": "stdout",
     "output_type": "stream",
     "text": [
      "(6400.0, [1, 1, 0, 1, 0, 1, 1, 1, 0, 0])\n"
     ]
    }
   ],
   "source": [
    "\n",
    "def simulated_annealing(totalKnapsakWeight):\n",
    "    startState = generateStartState(len(items))\n",
    "    currentWeight, currentValue,  currentState = fitness(startState)\n",
    "    temp = \"start\"\n",
    "    temperature = 100.0\n",
    "    coolingRate = 0.03\n",
    "\n",
    "    while currentWeight > totalKnapsakWeight:\n",
    "        startState = generateStartState(len(items))\n",
    "        currentWeight, currentValue,  currentState = fitness(startState)\n",
    "\n",
    "    while list(temp) != list(currentState) and currentWeight < totalKnapsakWeight:\n",
    "        temp = list(currentState)\n",
    "\n",
    "        neighbors = generateNeighboringSolution(currentState)\n",
    "        random.shuffle(neighbors)  # Randomize the order of neighbors\n",
    "\n",
    "        for neighbor in neighbors:\n",
    "            neighbor_weight, neighbor_value, neighbor_state = fitness(neighbor)\n",
    "\n",
    "            if neighbor_weight <= totalKnapsakWeight:\n",
    "                acceptance_prob = acceptanceProbability(currentValue, neighbor_value, temperature)\n",
    "                if random.random() < acceptance_prob:\n",
    "                    currentValue = neighbor_value\n",
    "                    currentWeight = neighbor_weight\n",
    "                    currentState = neighbor_state.copy()\n",
    "\n",
    "        temperature *= (1 - coolingRate)  \n",
    "\n",
    "    return currentValue, currentState\n",
    "\n",
    "print(simulated_annealing(float(totalKnapsakWeight)))\n",
    "           \n",
    "      "
   ]
  },
  {
   "cell_type": "code",
   "execution_count": null,
   "metadata": {},
   "outputs": [],
   "source": []
  },
  {
   "cell_type": "code",
   "execution_count": null,
   "metadata": {},
   "outputs": [],
   "source": []
  },
  {
   "cell_type": "code",
   "execution_count": null,
   "metadata": {},
   "outputs": [],
   "source": []
  }
 ],
 "metadata": {
  "kernelspec": {
   "display_name": "Python 3",
   "language": "python",
   "name": "python3"
  },
  "language_info": {
   "codemirror_mode": {
    "name": "ipython",
    "version": 3
   },
   "file_extension": ".py",
   "mimetype": "text/x-python",
   "name": "python",
   "nbconvert_exporter": "python",
   "pygments_lexer": "ipython3",
   "version": "3.11.3"
  },
  "orig_nbformat": 4
 },
 "nbformat": 4,
 "nbformat_minor": 2
}
