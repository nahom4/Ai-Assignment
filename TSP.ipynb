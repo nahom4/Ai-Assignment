{
 "cells": [
  {
   "attachments": {},
   "cell_type": "markdown",
   "metadata": {},
   "source": [
    "Hill climbing implementation for the TSP"
   ]
  },
  {
   "cell_type": "code",
   "execution_count": 6,
   "metadata": {},
   "outputs": [
    {
     "name": "stdout",
     "output_type": "stream",
     "text": [
      "(['Mehadia', 'Rimnicu_Vilcea', 'Vaslui', 'Drobeta', 'Arad', 'Hirsova', 'Urziceni', 'Iasi', 'Sibiu', 'Bucharest', 'Lugoj', 'Fagaras', 'Oradea', 'Zerind', 'Pitesti', 'Craiova', 'Eforie', 'Timisoara', 'Giurgiu', 'Neamt'], 3507)\n"
     ]
    }
   ],
   "source": [
    "from graph_library import newgraph\n",
    "import random\n",
    "\n",
    "graph = newgraph.graph\n",
    "\n",
    "\n",
    "# Get the neighbors \n",
    "def get_neighbors(state):\n",
    "    \n",
    "    # to get the neighbors we will simply swap adjacent values\n",
    "    neighbors = []\n",
    "    for i in range(len(state) - 1):\n",
    "        neighbor = state.copy()\n",
    "        neighbor[i],neighbor[i + 1] = neighbor[i + 1],neighbor[i]\n",
    "        neighbors.append(neighbor)\n",
    "    \n",
    "    return neighbors\n",
    "#checks the existence of a path\n",
    "def path_inbetween(first,second):\n",
    "    \n",
    "    for index, cities in enumerate(graph[first]):\n",
    "        if cities[0] == second:\n",
    "            return cities[1]\n",
    "    return None\n",
    "\n",
    "#This is the cost function\n",
    "def cost(state):\n",
    "    total_cost = 0\n",
    "    for i in range(len(state)-1):\n",
    "        #There are two cases the two cities are connected or not\n",
    "        cost_in_between = path_inbetween(state[i],state[i + 1])\n",
    "        if cost_in_between:\n",
    "            total_cost += cost_in_between\n",
    "        else:\n",
    "            # if the two cities are not connected let's increase the cost\n",
    "            # by a very large value\n",
    "            total_cost += 200\n",
    "  \n",
    "    return total_cost\n",
    "\n",
    "#This where executions begin\n",
    "def hill_climbing(curr_state):\n",
    "    curr_cost = cost(curr_state)\n",
    "    while True:\n",
    "        neighbors = get_neighbors(curr_state)\n",
    "        neighbor_cost = [cost(neighbor) for neighbor in neighbors]\n",
    "        if min(neighbor_cost) >= curr_cost:\n",
    "            break\n",
    "        else:\n",
    "            curr_cost = min(neighbor_cost)\n",
    "            curr_state = neighbors[neighbor_cost.index(curr_cost)]\n",
    "    # print(curr_state)\n",
    "    # print(curr_cost)\n",
    "    return curr_state, curr_cost\n",
    "\n",
    "curr_state = random.sample(list(graph.keys()),20)\n",
    "print(hill_climbing(curr_state))\n",
    "    \n",
    "    \n",
    "    "
   ]
  }
 ],
 "metadata": {
  "kernelspec": {
   "display_name": "Python 3",
   "language": "python",
   "name": "python3"
  },
  "language_info": {
   "codemirror_mode": {
    "name": "ipython",
    "version": 3
   },
   "file_extension": ".py",
   "mimetype": "text/x-python",
   "name": "python",
   "nbconvert_exporter": "python",
   "pygments_lexer": "ipython3",
   "version": "3.11.3"
  },
  "orig_nbformat": 4
 },
 "nbformat": 4,
 "nbformat_minor": 2
}
